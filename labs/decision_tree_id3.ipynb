{
 "cells": [
  {
   "cell_type": "code",
   "execution_count": 1,
   "id": "fe47a43e-b8bb-46d2-b49f-b1cc32878599",
   "metadata": {},
   "outputs": [],
   "source": [
    "# Set the current folder as root\n",
    "\n",
    "import os\n",
    "\n",
    "ROOT_PATH = \"./ai-2025\"\n",
    "\n",
    "os.chdir(ROOT_PATH)"
   ]
  },
  {
   "cell_type": "code",
   "execution_count": 72,
   "id": "3cfce798-caf5-484d-829c-295beb41ea59",
   "metadata": {},
   "outputs": [
    {
     "name": "stdout",
     "output_type": "stream",
     "text": [
      "[{'Indice': 'E1', 'Historia de Crédito': 'Ruim', 'Dívida': 'Alta', 'Garantia': 'Nenhuma', 'Renda': '$0 a $15k', 'Risco': 'Alto'}, {'Indice': 'E2', 'Historia de Crédito': 'Desconhecida', 'Dívida': 'Alta', 'Garantia': 'Nenhuma', 'Renda': '$15 a $35k', 'Risco': 'Alto'}, {'Indice': 'E3', 'Historia de Crédito': 'Desconhecida', 'Dívida': 'Baixa', 'Garantia': 'Nenhuma', 'Renda': '$15 a $35k', 'Risco': 'Moderado'}, {'Indice': 'E4', 'Historia de Crédito': 'Desconhecida', 'Dívida': 'Baixa', 'Garantia': 'Nenhuma', 'Renda': '$0 a $15k', 'Risco': 'Alto'}, {'Indice': 'E5', 'Historia de Crédito': 'Desconhecida', 'Dívida': 'Baixa', 'Garantia': 'Nenhuma', 'Renda': 'Acima de $35k', 'Risco': 'Baixo'}, {'Indice': 'E6', 'Historia de Crédito': 'Desconhecida', 'Dívida': 'Baixa', 'Garantia': 'Adequada', 'Renda': 'Acima de $35k', 'Risco': 'Baixo'}, {'Indice': 'E7', 'Historia de Crédito': 'Ruim', 'Dívida': 'Baixa', 'Garantia': 'Nenhuma', 'Renda': '$0 a $15k', 'Risco': 'Alto'}, {'Indice': 'E8', 'Historia de Crédito': 'Ruim', 'Dívida': 'Baixa', 'Garantia': 'Adequada', 'Renda': 'Acima de $35k', 'Risco': 'Moderado'}, {'Indice': 'E9', 'Historia de Crédito': 'Boa', 'Dívida': 'Baixa', 'Garantia': 'Nenhuma', 'Renda': 'Acima de $35k', 'Risco': 'Baixo'}, {'Indice': 'E10', 'Historia de Crédito': 'Boa', 'Dívida': 'Alta', 'Garantia': 'Adequada', 'Renda': 'Acima de $35k', 'Risco': 'Baixo'}, {'Indice': 'E11', 'Historia de Crédito': 'Boa', 'Dívida': 'Alta', 'Garantia': 'Nenhuma', 'Renda': '$0 a $15k', 'Risco': 'Alto'}, {'Indice': 'E12', 'Historia de Crédito': 'Boa', 'Dívida': 'Alta', 'Garantia': 'Nenhuma', 'Renda': '$15 a $35k', 'Risco': 'Moderado'}, {'Indice': 'E13', 'Historia de Crédito': 'Boa', 'Dívida': 'Alta', 'Garantia': 'Nenhuma', 'Renda': 'Acima de $35k', 'Risco': 'Baixo'}, {'Indice': 'E14', 'Historia de Crédito': 'Ruim', 'Dívida': 'Alta', 'Garantia': 'Nenhuma', 'Renda': '$15 a $35k', 'Risco': 'Alto'}, {'Indice': 'E15', 'Historia de Crédito': 'Desconhecida', 'Dívida': 'Baixa', 'Garantia': 'Adequada', 'Renda': '$0 a $15k', 'Risco': 'Baixo'}, {'Indice': 'E16', 'Historia de Crédito': 'Boa', 'Dívida': 'Baixa', 'Garantia': 'Nenhuma', 'Renda': '$0 a $15k', 'Risco': 'Baixo'}, {'Indice': 'E17', 'Historia de Crédito': 'Boa', 'Dívida': 'Baixa', 'Garantia': 'Adequada', 'Renda': '$15 a $35k', 'Risco': 'Baixo'}, {'Indice': 'E18', 'Historia de Crédito': 'Desconhecida', 'Dívida': 'Alta', 'Garantia': 'Nenhuma', 'Renda': '$0 a $15k', 'Risco': 'Moderado'}, {'Indice': 'E19', 'Historia de Crédito': 'Ruim', 'Dívida': 'Baixa', 'Garantia': 'Adequada', 'Renda': '$15 a $35k', 'Risco': 'Moderado'}, {'Indice': 'E20', 'Historia de Crédito': 'Boa', 'Dívida': 'Alta', 'Garantia': 'Nenhuma', 'Renda': '$15 a $35k', 'Risco': 'Moderado'}]\n"
     ]
    }
   ],
   "source": [
    "# Opening the data_set\n",
    "\n",
    "import csv\n",
    "\n",
    "DATA_SET = \"credit.csv\"\n",
    "\n",
    "with open(DATA_SET, mode=\"r\") as file:\n",
    "    ds = [row for row in csv.DictReader(file)]\n",
    "\n",
    "print(ds)\n",
    "\n",
    "INDEX = \"Indice\"\n",
    "target = \"Risco\"\n",
    "DS_ATTR = [attr for attr in ds[0] if attr != target and attr != INDEX]"
   ]
  },
  {
   "cell_type": "code",
   "execution_count": 3,
   "id": "5fbe5273-8b6f-4391-9c97-da86fba249ef",
   "metadata": {},
   "outputs": [
    {
     "name": "stdout",
     "output_type": "stream",
     "text": [
      "1.5306189948485172\n"
     ]
    }
   ],
   "source": [
    "import math\n",
    "\n",
    "def calc_entropy(ds, target):\n",
    "    tgt_column = [row[target] for row in ds]\n",
    "    class_count = {}\n",
    "\n",
    "    for tgt in tgt_column:\n",
    "        class_count[tgt] = class_count.get(tgt, 0) + 1\n",
    "\n",
    "    total = len(tgt_column)\n",
    "    entropy = 0\n",
    "\n",
    "    for count in class_count.values():\n",
    "        prob = count / total\n",
    "        entropy -= prob *  math.log(prob, 2)\n",
    "        \n",
    "    return entropy\n",
    "\n",
    "class_entropy = calc_entropy(ds, target)\n",
    "\n",
    "print(class_entropy)"
   ]
  },
  {
   "cell_type": "code",
   "execution_count": 4,
   "id": "ed146784-d82f-44de-8621-3e1f24d9a9e9",
   "metadata": {},
   "outputs": [
    {
     "ename": "KeyError",
     "evalue": "'wind'",
     "output_type": "error",
     "traceback": [
      "\u001b[0;31m---------------------------------------------------------------------------\u001b[0m",
      "\u001b[0;31mKeyError\u001b[0m                                  Traceback (most recent call last)",
      "Cell \u001b[0;32mIn[4], line 11\u001b[0m\n\u001b[1;32m      7\u001b[0m         attr_entropy[value] \u001b[38;5;241m=\u001b[39m calc_entropy(part_attr_value, target)\n\u001b[1;32m      9\u001b[0m     \u001b[38;5;28;01mreturn\u001b[39;00m attr_entropy\n\u001b[0;32m---> 11\u001b[0m \u001b[43mcalc_part_entropy\u001b[49m\u001b[43m(\u001b[49m\u001b[43mds\u001b[49m\u001b[43m,\u001b[49m\u001b[43m \u001b[49m\u001b[38;5;124;43m\"\u001b[39;49m\u001b[38;5;124;43mwind\u001b[39;49m\u001b[38;5;124;43m\"\u001b[39;49m\u001b[43m,\u001b[49m\u001b[43m \u001b[49m\u001b[43mtarget\u001b[49m\u001b[43m)\u001b[49m\n",
      "Cell \u001b[0;32mIn[4], line 3\u001b[0m, in \u001b[0;36mcalc_part_entropy\u001b[0;34m(ds, attr, target)\u001b[0m\n\u001b[1;32m      1\u001b[0m \u001b[38;5;28;01mdef\u001b[39;00m\u001b[38;5;250m \u001b[39m\u001b[38;5;21mcalc_part_entropy\u001b[39m(ds, attr, target):\n\u001b[1;32m      2\u001b[0m     attr_entropy \u001b[38;5;241m=\u001b[39m {}\n\u001b[0;32m----> 3\u001b[0m     attr_values \u001b[38;5;241m=\u001b[39m \u001b[38;5;28;43mset\u001b[39;49m\u001b[43m(\u001b[49m\u001b[43mrow\u001b[49m\u001b[43m[\u001b[49m\u001b[43mattr\u001b[49m\u001b[43m]\u001b[49m\u001b[43m \u001b[49m\u001b[38;5;28;43;01mfor\u001b[39;49;00m\u001b[43m \u001b[49m\u001b[43mrow\u001b[49m\u001b[43m \u001b[49m\u001b[38;5;129;43;01min\u001b[39;49;00m\u001b[43m \u001b[49m\u001b[43mds\u001b[49m\u001b[43m)\u001b[49m\n\u001b[1;32m      5\u001b[0m     \u001b[38;5;28;01mfor\u001b[39;00m value \u001b[38;5;129;01min\u001b[39;00m attr_values:\n\u001b[1;32m      6\u001b[0m         part_attr_value \u001b[38;5;241m=\u001b[39m [row \u001b[38;5;28;01mfor\u001b[39;00m row \u001b[38;5;129;01min\u001b[39;00m ds \u001b[38;5;28;01mif\u001b[39;00m row[attr] \u001b[38;5;241m==\u001b[39m value]\n",
      "Cell \u001b[0;32mIn[4], line 3\u001b[0m, in \u001b[0;36m<genexpr>\u001b[0;34m(.0)\u001b[0m\n\u001b[1;32m      1\u001b[0m \u001b[38;5;28;01mdef\u001b[39;00m\u001b[38;5;250m \u001b[39m\u001b[38;5;21mcalc_part_entropy\u001b[39m(ds, attr, target):\n\u001b[1;32m      2\u001b[0m     attr_entropy \u001b[38;5;241m=\u001b[39m {}\n\u001b[0;32m----> 3\u001b[0m     attr_values \u001b[38;5;241m=\u001b[39m \u001b[38;5;28mset\u001b[39m(\u001b[43mrow\u001b[49m\u001b[43m[\u001b[49m\u001b[43mattr\u001b[49m\u001b[43m]\u001b[49m \u001b[38;5;28;01mfor\u001b[39;00m row \u001b[38;5;129;01min\u001b[39;00m ds)\n\u001b[1;32m      5\u001b[0m     \u001b[38;5;28;01mfor\u001b[39;00m value \u001b[38;5;129;01min\u001b[39;00m attr_values:\n\u001b[1;32m      6\u001b[0m         part_attr_value \u001b[38;5;241m=\u001b[39m [row \u001b[38;5;28;01mfor\u001b[39;00m row \u001b[38;5;129;01min\u001b[39;00m ds \u001b[38;5;28;01mif\u001b[39;00m row[attr] \u001b[38;5;241m==\u001b[39m value]\n",
      "\u001b[0;31mKeyError\u001b[0m: 'wind'"
     ]
    }
   ],
   "source": [
    "def calc_part_entropy(ds, attr, target):\n",
    "    attr_entropy = {}\n",
    "    attr_values = set(row[attr] for row in ds)\n",
    "\n",
    "    for value in attr_values:\n",
    "        part_attr_value = [row for row in ds if row[attr] == value]\n",
    "        attr_entropy[value] = calc_entropy(part_attr_value, target)\n",
    "\n",
    "    return attr_entropy\n",
    "\n",
    "calc_part_entropy(ds, \"wind\", target)"
   ]
  },
  {
   "cell_type": "code",
   "execution_count": 5,
   "id": "160a3f77-cf64-477c-9daa-85dd09f8d0ae",
   "metadata": {},
   "outputs": [
    {
     "ename": "NameError",
     "evalue": "name 'part_entropy' is not defined",
     "output_type": "error",
     "traceback": [
      "\u001b[0;31m---------------------------------------------------------------------------\u001b[0m",
      "\u001b[0;31mNameError\u001b[0m                                 Traceback (most recent call last)",
      "Cell \u001b[0;32mIn[5], line 12\u001b[0m\n\u001b[1;32m      8\u001b[0m         info_gain \u001b[38;5;241m-\u001b[39m\u001b[38;5;241m=\u001b[39m prob \u001b[38;5;241m*\u001b[39m part_entropy[part]\n\u001b[1;32m     10\u001b[0m     \u001b[38;5;28;01mreturn\u001b[39;00m info_gain\n\u001b[0;32m---> 12\u001b[0m calc_info_gain(ds, \u001b[38;5;124m\"\u001b[39m\u001b[38;5;124mwind\u001b[39m\u001b[38;5;124m\"\u001b[39m, class_entropy, \u001b[43mpart_entropy\u001b[49m)\n",
      "\u001b[0;31mNameError\u001b[0m: name 'part_entropy' is not defined"
     ]
    }
   ],
   "source": [
    "def calc_info_gain(ds, attr, base_entropy, part_entropy):\n",
    "    total_count = len(ds)\n",
    "    info_gain = base_entropy\n",
    "\n",
    "    for part in part_entropy:\n",
    "        count_attr = sum(1 for row in ds if row[attr] == part)\n",
    "        prob = count_attr / total_count\n",
    "        info_gain -= prob * part_entropy[part]\n",
    "\n",
    "    return info_gain\n",
    "\n",
    "calc_info_gain(ds, \"wind\", class_entropy, part_entropy)"
   ]
  },
  {
   "cell_type": "code",
   "execution_count": 6,
   "id": "17ad2765-b043-48e1-9acc-da666eb55139",
   "metadata": {},
   "outputs": [
    {
     "name": "stdout",
     "output_type": "stream",
     "text": [
      "{'Credito': 0.26565428452375395, 'Dívida': 0.06289889437401797, 'Garantia': 0.20604950908542197, 'Renda': 0.9663236712849368}\n"
     ]
    }
   ],
   "source": [
    "ds_attr = [attr for attr in ds[0] if attr != target and attr != INDEX] \n",
    "\n",
    "attr_info_gain = {}\n",
    "\n",
    "for attr in ds_attr:\n",
    "    part_entropy = calc_part_entropy(ds, attr, target)\n",
    "    attr_info_gain[attr] = calc_info_gain(ds, attr, class_entropy, part_entropy)\n",
    "\n",
    "print(attr_info_gain)"
   ]
  },
  {
   "cell_type": "code",
   "execution_count": 7,
   "id": "f27cc3c0-d44d-4499-bcf2-5ae38bfa50ec",
   "metadata": {},
   "outputs": [
    {
     "ename": "KeyError",
     "evalue": "'outlook'",
     "output_type": "error",
     "traceback": [
      "\u001b[0;31m---------------------------------------------------------------------------\u001b[0m",
      "\u001b[0;31mKeyError\u001b[0m                                  Traceback (most recent call last)",
      "Cell \u001b[0;32mIn[7], line 1\u001b[0m\n\u001b[0;32m----> 1\u001b[0m sunny_ds \u001b[38;5;241m=\u001b[39m [row \u001b[38;5;28;01mfor\u001b[39;00m row \u001b[38;5;129;01min\u001b[39;00m ds \u001b[38;5;28;01mif\u001b[39;00m \u001b[43mrow\u001b[49m\u001b[43m[\u001b[49m\u001b[38;5;124;43m\"\u001b[39;49m\u001b[38;5;124;43moutlook\u001b[39;49m\u001b[38;5;124;43m\"\u001b[39;49m\u001b[43m]\u001b[49m \u001b[38;5;241m==\u001b[39m \u001b[38;5;124m\"\u001b[39m\u001b[38;5;124msunny\u001b[39m\u001b[38;5;124m\"\u001b[39m]\n\u001b[1;32m      2\u001b[0m sunny_entropy \u001b[38;5;241m=\u001b[39m calc_entropy(sunny_ds, target)\n\u001b[1;32m      4\u001b[0m ds_attr \u001b[38;5;241m=\u001b[39m [attr \u001b[38;5;28;01mfor\u001b[39;00m attr \u001b[38;5;129;01min\u001b[39;00m ds[\u001b[38;5;241m0\u001b[39m] \u001b[38;5;28;01mif\u001b[39;00m attr \u001b[38;5;241m!=\u001b[39m target \u001b[38;5;129;01mand\u001b[39;00m attr \u001b[38;5;241m!=\u001b[39m INDEX \u001b[38;5;129;01mand\u001b[39;00m attr \u001b[38;5;241m!=\u001b[39m \u001b[38;5;124m\"\u001b[39m\u001b[38;5;124moutlook\u001b[39m\u001b[38;5;124m\"\u001b[39m] \n",
      "\u001b[0;31mKeyError\u001b[0m: 'outlook'"
     ]
    }
   ],
   "source": [
    "sunny_ds = [row for row in ds if row[\"outlook\"] == \"sunny\"]\n",
    "sunny_entropy = calc_entropy(sunny_ds, target)\n",
    "\n",
    "ds_attr = [attr for attr in ds[0] if attr != target and attr != INDEX and attr != \"outlook\"] \n",
    "\n",
    "attr_info_gain = {}\n",
    "\n",
    "for attr in ds_attr:\n",
    "    part_entropy = calc_part_entropy(sunny_ds, attr, target)\n",
    "    attr_info_gain[attr] = calc_info_gain(sunny_ds, attr, sunny_entropy, part_entropy)\n",
    "\n",
    "print(attr_info_gain)"
   ]
  },
  {
   "cell_type": "code",
   "execution_count": 74,
   "id": "0294e3c5-8f79-46f9-b12c-966a949551bf",
   "metadata": {},
   "outputs": [
    {
     "name": "stdout",
     "output_type": "stream",
     "text": [
      "{'Renda': {'$15 a $35k': {'Dívida': {'Alta': {'Historia de Crédito': {'Desconhecida': 'Alto', 'Boa': 'Moderado', 'Ruim': 'Alto'}}, 'Baixa': {'Historia de Crédito': {'Desconhecida': 'Moderado', 'Boa': 'Baixo', 'Ruim': 'Moderado'}}}}, 'Acima de $35k': {'Historia de Crédito': {'Desconhecida': 'Baixo', 'Boa': 'Baixo', 'Ruim': 'Moderado'}}, '$0 a $15k': {'Historia de Crédito': {'Desconhecida': {'Dívida': {'Alta': 'Moderado', 'Baixa': {'Garantia': {'Adequada': 'Baixo', 'Nenhuma': 'Alto'}}}}, 'Boa': {'Dívida': {'Alta': 'Alto', 'Baixa': 'Baixo'}}, 'Ruim': 'Alto'}}}}\n"
     ]
    }
   ],
   "source": [
    "def id3(ds, target, dt=None):\n",
    "    if dt is None:\n",
    "        dt = {}\n",
    "    \n",
    "    class_entropy = calc_entropy(ds, target)\n",
    "\n",
    "    ds_attr = [attr for attr in ds[0] if attr != target and attr != INDEX] \n",
    "    attr_info_gain = {}\n",
    "    for attr in ds_attr:\n",
    "        part_entropy = calc_part_entropy(ds, attr, target)\n",
    "        attr_info_gain[attr] = calc_info_gain(ds, attr, class_entropy, part_entropy)\n",
    "\n",
    "    biggest_info_gain = max(attr_info_gain, key=attr_info_gain.get)\n",
    "    attr_values = set(row[biggest_info_gain] for row in ds)\n",
    "\n",
    "    dt[biggest_info_gain] = {}\n",
    "    \n",
    "    for value in attr_values:\n",
    "        value_ds = [row for row in ds if row[biggest_info_gain] == value]\n",
    "        target_values = set([row[target] for row in value_ds])\n",
    "        \n",
    "        if len(target_values) == 1:\n",
    "            dt[biggest_info_gain][value] = list(target_values)[0]\n",
    "        else:\n",
    "            dt[biggest_info_gain][value] = id3(value_ds, target)\n",
    "\n",
    "    return dt\n",
    "\n",
    "decision_tree = id3(ds, target)\n",
    "print(decision_tree)\n",
    "    "
   ]
  },
  {
   "cell_type": "code",
   "execution_count": 75,
   "id": "5de59a82-670e-49b5-a1ba-dbd91b1def11",
   "metadata": {},
   "outputs": [
    {
     "name": "stdout",
     "output_type": "stream",
     "text": [
      "└── Renda\n",
      "    ├── $15 a $35k\n",
      "    │   └── Dívida\n",
      "    │       ├── Alta\n",
      "    │       │   └── Historia de Crédito\n",
      "    │       │       ├── Desconhecida\n",
      "    │       │       │   └── Alto\n",
      "    │       │       ├── Boa\n",
      "    │       │       │   └── Moderado\n",
      "    │       │       └── Ruim\n",
      "    │       │           └── Alto\n",
      "    │       └── Baixa\n",
      "    │           └── Historia de Crédito\n",
      "    │               ├── Desconhecida\n",
      "    │               │   └── Moderado\n",
      "    │               ├── Boa\n",
      "    │               │   └── Baixo\n",
      "    │               └── Ruim\n",
      "    │                   └── Moderado\n",
      "    ├── Acima de $35k\n",
      "    │   └── Historia de Crédito\n",
      "    │       ├── Desconhecida\n",
      "    │       │   └── Baixo\n",
      "    │       ├── Boa\n",
      "    │       │   └── Baixo\n",
      "    │       └── Ruim\n",
      "    │           └── Moderado\n",
      "    └── $0 a $15k\n",
      "        └── Historia de Crédito\n",
      "            ├── Desconhecida\n",
      "            │   └── Dívida\n",
      "            │       ├── Alta\n",
      "            │       │   └── Moderado\n",
      "            │       └── Baixa\n",
      "            │           └── Garantia\n",
      "            │               ├── Adequada\n",
      "            │               │   └── Baixo\n",
      "            │               └── Nenhuma\n",
      "            │                   └── Alto\n",
      "            ├── Boa\n",
      "            │   └── Dívida\n",
      "            │       ├── Alta\n",
      "            │       │   └── Alto\n",
      "            │       └── Baixa\n",
      "            │           └── Baixo\n",
      "            └── Ruim\n",
      "                └── Alto\n"
     ]
    }
   ],
   "source": [
    "def print_tree(tree, prefix=\"\"):\n",
    "    if isinstance(tree, dict):\n",
    "        keys = list(tree.keys())\n",
    "        for i, key in enumerate(keys):\n",
    "            # Choose the pointer based on whether it's the last key.\n",
    "            pointer = \"└── \" if i == len(keys) - 1 else \"├── \"\n",
    "            print(prefix + pointer + str(key))\n",
    "            # Prepare the new prefix: add spacing if last, or a vertical bar if not.\n",
    "            new_prefix = prefix + (\"    \" if i == len(keys) - 1 else \"│   \")\n",
    "            print_tree(tree[key], new_prefix)\n",
    "    else:\n",
    "        # Print the leaf node.\n",
    "        print(prefix + \"└── \" + str(tree))\n",
    "\n",
    "print_tree(decision_tree)"
   ]
  },
  {
   "cell_type": "code",
   "execution_count": null,
   "id": "ebab0625-e22d-4fbd-9b78-67b833f56795",
   "metadata": {},
   "outputs": [],
   "source": []
  },
  {
   "cell_type": "code",
   "execution_count": null,
   "id": "2f16ad4d-bf4f-4bd9-9cb1-bed287ae5477",
   "metadata": {},
   "outputs": [],
   "source": []
  },
  {
   "cell_type": "code",
   "execution_count": null,
   "id": "0e87be6f-84c6-4279-8314-a7322e3e51f5",
   "metadata": {},
   "outputs": [],
   "source": []
  }
 ],
 "metadata": {
  "kernelspec": {
   "display_name": "Python 3 (ipykernel)",
   "language": "python",
   "name": "python3"
  },
  "language_info": {
   "codemirror_mode": {
    "name": "ipython",
    "version": 3
   },
   "file_extension": ".py",
   "mimetype": "text/x-python",
   "name": "python",
   "nbconvert_exporter": "python",
   "pygments_lexer": "ipython3",
   "version": "3.12.9"
  }
 },
 "nbformat": 4,
 "nbformat_minor": 5
}
